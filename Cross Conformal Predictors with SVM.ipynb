{
 "cells": [
  {
   "cell_type": "markdown",
   "metadata": {},
   "source": [
    "**Section 1: Wine Dataset**"
   ]
  },
  {
   "cell_type": "markdown",
   "metadata": {},
   "source": [
    "**Task 1: Load Data and \n",
    "Task 2: Splitting the data**"
   ]
  },
  {
   "cell_type": "code",
   "execution_count": 73,
   "metadata": {},
   "outputs": [],
   "source": [
    "import numpy as np\n",
    "import matplotlib.pyplot as plt\n",
    "from sklearn.datasets import load_wine\n",
    "dataset = load_wine()\n",
    "from sklearn.model_selection import train_test_split\n",
    "X_train, X_test,y_train,y_test= train_test_split(dataset.data , dataset.target, random_state  = 2810)"
   ]
  },
  {
   "cell_type": "markdown",
   "metadata": {},
   "source": [
    "**Task 3: Cross Validation**"
   ]
  },
  {
   "cell_type": "code",
   "execution_count": 74,
   "metadata": {},
   "outputs": [
    {
     "name": "stdout",
     "output_type": "stream",
     "text": [
      "[0.66666667 0.66666667 0.66666667 0.73076923 0.73076923]\n",
      "The Generalisation accuracy is 0.6923076923076923\n"
     ]
    }
   ],
   "source": [
    "from sklearn.model_selection import cross_val_score\n",
    "from sklearn.svm import SVC\n",
    "svc = SVC()\n",
    "print(cross_val_score(svc,X_train, y_train))\n",
    "print('The Generalisation accuracy is',np.mean(cross_val_score(svc,X_train, y_train)))"
   ]
  },
  {
   "cell_type": "code",
   "execution_count": 75,
   "metadata": {},
   "outputs": [
    {
     "name": "stdout",
     "output_type": "stream",
     "text": [
      "The Cross Val error is 0.30769230769230765\n"
     ]
    }
   ],
   "source": [
    "print('The Cross Val error is',np.mean(1-cross_val_score(svc,X_train, y_train)))"
   ]
  },
  {
   "cell_type": "markdown",
   "metadata": {},
   "source": [
    "**Task 4: Test Error rate**"
   ]
  },
  {
   "cell_type": "code",
   "execution_count": 76,
   "metadata": {},
   "outputs": [
    {
     "name": "stdout",
     "output_type": "stream",
     "text": [
      "Test Error rate 0.37777777777777777\n"
     ]
    }
   ],
   "source": [
    "svc.fit(X_train,y_train)\n",
    "print('Test Error rate',1-svc.score(X_test,y_test))"
   ]
  },
  {
   "cell_type": "markdown",
   "metadata": {},
   "source": [
    "**The Performance on the Test-set is worse than the performance on Cross_validation sets, this is largely due to small size of training set**"
   ]
  },
  {
   "cell_type": "markdown",
   "metadata": {},
   "source": [
    "**Task 5:Creating Pipeline with different normalisation and Task 6: Predicting Labels and calculating Test-error rate**"
   ]
  },
  {
   "cell_type": "code",
   "execution_count": 57,
   "metadata": {},
   "outputs": [],
   "source": [
    "from sklearn.pipeline import Pipeline\n",
    "from sklearn.preprocessing import MinMaxScaler\n",
    "pipeline = Pipeline([('scaler',MinMaxScaler()), ('svm',SVC())])"
   ]
  },
  {
   "cell_type": "code",
   "execution_count": 58,
   "metadata": {},
   "outputs": [
    {
     "name": "stdout",
     "output_type": "stream",
     "text": [
      "Best Cross_validation accuracy: 1.0\n",
      "Test set score: 0.9555555555555556\n",
      "Best Parameters: {'svm__C': 1, 'svm__gamma': 1}\n",
      "The Test Error rate- 0.044444444444444446\n"
     ]
    }
   ],
   "source": [
    "from sklearn.model_selection import GridSearchCV\n",
    "param_grid ={'svm__C':[0.001,0.01,0.1,1,10,100], 'svm__gamma':[0.001,0.01,0.1,1,10,100]}\n",
    "grid = GridSearchCV(pipeline, param_grid = param_grid, cv =5, n_jobs = -1)\n",
    "grid.fit(X_train,y_train)\n",
    "y_pred = grid.predict(X_test)\n",
    "print('Best Cross_validation accuracy:', grid.best_score_)\n",
    "print('Test set score:', grid.score(X_test,y_test))\n",
    "print('Best Parameters:', grid.best_params_)\n",
    "print('The Test Error rate-',np.mean(y_pred != y_test))"
   ]
  },
  {
   "cell_type": "code",
   "execution_count": 59,
   "metadata": {},
   "outputs": [
    {
     "name": "stdout",
     "output_type": "stream",
     "text": [
      "Best Cross_validation accuracy: 1.0\n",
      "Test set score: 0.9333333333333333\n",
      "Best Parameters: {'svm__C': 1, 'svm__gamma': 0.01}\n",
      "The Test Error rate- 0.06666666666666667\n"
     ]
    }
   ],
   "source": [
    "from sklearn.preprocessing import StandardScaler\n",
    "pipeline = Pipeline([('scaler',StandardScaler()), ('svm',SVC())])\n",
    "grid = GridSearchCV(pipeline, param_grid = param_grid, cv =5, n_jobs = -1)\n",
    "grid.fit(X_train,y_train)\n",
    "y_pred = grid.predict(X_test)\n",
    "print('Best Cross_validation accuracy:', grid.best_score_)\n",
    "print('Test set score:', grid.score(X_test,y_test))\n",
    "print('Best Parameters:', grid.best_params_)\n",
    "print('The Test Error rate-',np.mean(y_pred != y_test))"
   ]
  },
  {
   "cell_type": "code",
   "execution_count": 60,
   "metadata": {},
   "outputs": [
    {
     "name": "stdout",
     "output_type": "stream",
     "text": [
      "Best Cross_validation accuracy: 0.9319088319088319\n",
      "Test set score: 0.9333333333333333\n",
      "Best Parameters: {'svm__C': 100, 'svm__gamma': 100}\n",
      "The Test Error rate- 0.06666666666666667\n"
     ]
    }
   ],
   "source": [
    "from sklearn.preprocessing import Normalizer\n",
    "pipeline = Pipeline([('scaler',Normalizer()), ('svm',SVC())])\n",
    "grid = GridSearchCV(pipeline, param_grid = param_grid, cv =5, n_jobs = -1)\n",
    "grid.fit(X_train,y_train)\n",
    "y_pred = grid.predict(X_test)\n",
    "print('Best Cross_validation accuracy:', grid.best_score_)\n",
    "print('Test set score:', grid.score(X_test,y_test))\n",
    "print('Best Parameters:', grid.best_params_)\n",
    "print('The Test Error rate-',np.mean(y_pred != y_test))"
   ]
  },
  {
   "cell_type": "code",
   "execution_count": 61,
   "metadata": {},
   "outputs": [
    {
     "name": "stdout",
     "output_type": "stream",
     "text": [
      "Best Cross_validation accuracy: 0.9925925925925926\n",
      "Test set score: 0.9555555555555556\n",
      "Best Parameters: {'svm__C': 1, 'svm__gamma': 0.01}\n",
      "The Test Error rate- 0.044444444444444446\n"
     ]
    }
   ],
   "source": [
    "from sklearn.preprocessing import RobustScaler\n",
    "pipeline = Pipeline([('scaler',RobustScaler()), ('svm',SVC())])\n",
    "grid = GridSearchCV(pipeline, param_grid = param_grid, cv =5, n_jobs = -1)\n",
    "grid.fit(X_train,y_train)\n",
    "y_pred = grid.predict(X_test)\n",
    "print('Best Cross_validation accuracy:', grid.best_score_)\n",
    "print('Test set score:', grid.score(X_test,y_test))\n",
    "print('Best Parameters:', grid.best_params_)\n",
    "print('The Test Error rate-',np.mean(y_pred != y_test))"
   ]
  },
  {
   "cell_type": "markdown",
   "metadata": {},
   "source": [
    "**For Wine Dataset, MinMax appears to be best way to normalise as it is providing the best Cross-Validation accuracy and best Test set score. However,the difference between the performance MinMax and Standard Normalisation is not that big and both of them provide comparable results.Robust Scaler gives test-error rate equal to MinMax Scaler but it has lower Cross-validation accuracy. For the next task, I am going to use MinMax to preprocess data.**"
   ]
  },
  {
   "cell_type": "markdown",
   "metadata": {},
   "source": [
    "**Task 7: Implementing Cross-Conformal Predictors**"
   ]
  },
  {
   "cell_type": "markdown",
   "metadata": {},
   "source": [
    "'''For the implementaion of cross-conformal predictors, I have used CV = 5. I have calculated ranks for each caliberation fold and have added the rank for the other caliberation fold using a loop. Since, I have not created an augmented dataset, the way I have found the rank of each test sample for each caliberation set does not require me to subtract one from the rank as this way if my test sample for a given fold is the strangest, the rank will be zero already and hence no need to subtract 1.'''"
   ]
  },
  {
   "cell_type": "code",
   "execution_count": 62,
   "metadata": {},
   "outputs": [],
   "source": [
    "pipeline = Pipeline([('scaler',MinMaxScaler()), ('svm',SVC())]) #Redefining Pipeline\n",
    "from sklearn.model_selection import KFold\n",
    "kf = KFold(shuffle = True, random_state = 2810)\n",
    "grid1 = GridSearchCV(pipeline, param_grid = param_grid, cv =5, n_jobs = -1)"
   ]
  },
  {
   "cell_type": "code",
   "execution_count": 63,
   "metadata": {},
   "outputs": [],
   "source": [
    "fold_rank = np.zeros((len(X_test),3))\n",
    "for rest_index, fold_index in kf.split(X_train):\n",
    "    X_rest,X_fold = X_train[rest_index], X_train[fold_index]\n",
    "    y_rest,y_fold = y_train[rest_index], y_train[fold_index]\n",
    "    conformity_fold = np.zeros(len(y_fold))\n",
    "    grid1.fit(X_rest,y_rest)\n",
    "    conformity_scores  = grid1.decision_function(X_fold) \n",
    "    test_decision = grid1.decision_function(X_test)\n",
    "    for i in range(len(y_fold)):\n",
    "        conformity_fold[i] = conformity_scores[i,y_fold[i]]\n",
    "    for j in range(len(y_test)):\n",
    "        for k in range(3):\n",
    "            fold_rank[j,k] = fold_rank[j,k]+np.sum(test_decision[j,k] >= conformity_fold)\n",
    "p_value = (fold_rank+1)/(len(X_train)+1)"
   ]
  },
  {
   "cell_type": "code",
   "execution_count": 64,
   "metadata": {},
   "outputs": [
    {
     "name": "stdout",
     "output_type": "stream",
     "text": [
      "The Test Error- 0.044444444444444446\n"
     ]
    }
   ],
   "source": [
    "labels = np.unique(y_train)\n",
    "pred_targets = np.zeros(len(X_test))\n",
    "for i in range(len(p_value)):\n",
    "    pred_targets[i] = labels[np.argmax(p_value[i])]\n",
    "print('The Test Error-',np.mean(pred_targets != y_test))"
   ]
  },
  {
   "cell_type": "code",
   "execution_count": 65,
   "metadata": {},
   "outputs": [
    {
     "data": {
      "text/plain": [
       "[<matplotlib.lines.Line2D at 0x7f8abaa2af10>]"
      ]
     },
     "execution_count": 65,
     "metadata": {},
     "output_type": "execute_result"
    },
    {
     "data": {
      "image/png": "[encoded data removed]",
      "text/plain": [
       "<Figure size 432x288 with 1 Axes>"
      ]
     },
     "metadata": {
      "needs_background": "light"
     },
     "output_type": "display_data"
    }
   ],
   "source": [
    "%matplotlib inline\n",
    "import matplotlib.pyplot as plt\n",
    "eps = np.zeros(100)\n",
    "err = np.zeros(100)\n",
    "for k in range(100):\n",
    "    eps[k] = k/100\n",
    "    err[k] = 0\n",
    "    for j in range(len(y_test)):\n",
    "        if(p_value[j,y_test[j]]<= eps[k]):\n",
    "            err[k] = err[k]+1\n",
    "    err[k] = err[k]/len(y_test)\n",
    "plt.plot(eps,err)"
   ]
  },
  {
   "cell_type": "code",
   "execution_count": 66,
   "metadata": {},
   "outputs": [
    {
     "name": "stdout",
     "output_type": "stream",
     "text": [
      "Avg False P-Value is 0.008706467661691555\n"
     ]
    }
   ],
   "source": [
    "total = 0    \n",
    "for i in range(len(y_test)):\n",
    "    k = y_test[i]\n",
    "    for j in range(len(labels)):\n",
    "        if k!= j:\n",
    "            total =total+ p_value[i,j]\n",
    "avg_false_p = total/(len(p_value)*(len(labels)-1))\n",
    "print('Avg False P-Value is' ,avg_false_p)"
   ]
  },
  {
   "cell_type": "markdown",
   "metadata": {},
   "source": [
    "**Section 2: USPS Dataset**"
   ]
  },
  {
   "cell_type": "markdown",
   "metadata": {},
   "source": [
    "**Task 1: Load Data and \n",
    "Task 2: Splitting the data**"
   ]
  },
  {
   "cell_type": "code",
   "execution_count": 68,
   "metadata": {},
   "outputs": [],
   "source": [
    "import numpy as np\n",
    "import matplotlib.pyplot as plt\n",
    "data_test = np.genfromtxt('/home/smith/Downloads/zip.test')\n",
    "data_train = np.genfromtxt('/home/smith/Downloads/zip.train')\n",
    "dataset = np.concatenate([data_train, data_test]) #merging the data\n",
    "from sklearn.model_selection import train_test_split\n",
    "X_train, X_test,y_train,y_test= train_test_split(dataset[:,1:] , dataset[:,0], random_state  = 2810)"
   ]
  },
  {
   "cell_type": "markdown",
   "metadata": {},
   "source": [
    "**Task 3:Cross- Validation**"
   ]
  },
  {
   "cell_type": "code",
   "execution_count": 69,
   "metadata": {},
   "outputs": [
    {
     "name": "stdout",
     "output_type": "stream",
     "text": [
      "[0.97491039 0.96702509 0.96702509 0.97704448 0.96915352]\n",
      "The Generalisation accuracy is 0.9710317129736762\n"
     ]
    }
   ],
   "source": [
    "from sklearn.model_selection import cross_val_score\n",
    "from sklearn.svm import SVC\n",
    "svc = SVC()\n",
    "print(cross_val_score(svc,X_train, y_train))\n",
    "print('The Generalisation accuracy is',np.mean(cross_val_score(svc,X_train, y_train)))"
   ]
  },
  {
   "cell_type": "code",
   "execution_count": 72,
   "metadata": {},
   "outputs": [
    {
     "name": "stdout",
     "output_type": "stream",
     "text": [
      "The Cross Val error is 0.028968287026323793\n"
     ]
    }
   ],
   "source": [
    "print('The Cross Val error is',np.mean(1-cross_val_score(svc,X_train, y_train)))"
   ]
  },
  {
   "cell_type": "markdown",
   "metadata": {},
   "source": [
    "**Task 4:Test error rate**"
   ]
  },
  {
   "cell_type": "code",
   "execution_count": 70,
   "metadata": {},
   "outputs": [
    {
     "name": "stdout",
     "output_type": "stream",
     "text": [
      "0.02537634408602152\n"
     ]
    }
   ],
   "source": [
    "svc.fit(X_train,y_train)\n",
    "print(1-svc.score(X_test,y_test))"
   ]
  },
  {
   "cell_type": "markdown",
   "metadata": {},
   "source": [
    "**The Performance on the Test-set is similar to the performance on Cross_validation sets due to large size of training set**"
   ]
  },
  {
   "cell_type": "markdown",
   "metadata": {},
   "source": [
    "**Task 5:Creating Pipeline with different normalisation and Task 6: Predicting Labels and Test error_rate**"
   ]
  },
  {
   "cell_type": "code",
   "execution_count": 47,
   "metadata": {},
   "outputs": [
    {
     "name": "stdout",
     "output_type": "stream",
     "text": [
      "Best Cross_validation accuracy: 0.9695974041334342\n",
      "Test set score: 0.9724731182795698\n",
      "Best Parameters: {'svm__C': 10, 'svm__gamma': 0.01}\n",
      "The Test Error rate- 0.027526881720430108\n"
     ]
    }
   ],
   "source": [
    "from sklearn.pipeline import Pipeline\n",
    "from sklearn.preprocessing import MinMaxScaler\n",
    "pipeline = Pipeline([('scaler',MinMaxScaler()), ('svm',SVC())])\n",
    "from sklearn.model_selection import GridSearchCV\n",
    "param_grid ={'svm__C':[0.001,0.01,0.1,1,10,100], 'svm__gamma':[0.001,0.01,0.1,1,10,100]}\n",
    "grid = GridSearchCV(pipeline, param_grid = param_grid, cv =5, n_jobs = -1)\n",
    "grid.fit(X_train,y_train)\n",
    "y_pred = grid.predict(X_test)\n",
    "print('Best Cross_validation accuracy:', grid.best_score_)\n",
    "print('Test set score:', grid.score(X_test,y_test))\n",
    "print('Best Parameters:', grid.best_params_)\n",
    "print('The Test Error rate-',np.mean(y_pred != y_test))"
   ]
  },
  {
   "cell_type": "code",
   "execution_count": 48,
   "metadata": {},
   "outputs": [
    {
     "name": "stdout",
     "output_type": "stream",
     "text": [
      "Best Cross_validation accuracy: 0.9654386695669613\n",
      "Test set score: 0.9668817204301076\n",
      "Best Parameters: {'svm__C': 10, 'svm__gamma': 0.001}\n",
      "The Test Error rate- 0.033118279569892474\n"
     ]
    }
   ],
   "source": [
    "from sklearn.preprocessing import StandardScaler\n",
    "pipeline = Pipeline([('scaler',StandardScaler()), ('svm',SVC())])\n",
    "grid = GridSearchCV(pipeline, param_grid = param_grid, cv =5, n_jobs = -1)\n",
    "grid.fit(X_train,y_train)\n",
    "y_pred = grid.predict(X_test)\n",
    "print('Best Cross_validation accuracy:', grid.best_score_)\n",
    "print('Test set score:', grid.score(X_test,y_test))\n",
    "print('Best Parameters:', grid.best_params_)\n",
    "print('The Test Error rate-',np.mean(y_pred != y_test))"
   ]
  },
  {
   "cell_type": "code",
   "execution_count": 49,
   "metadata": {},
   "outputs": [
    {
     "name": "stdout",
     "output_type": "stream",
     "text": [
      "Best Cross_validation accuracy: 0.8808341946797077\n",
      "Test set score: 0.8838709677419355\n",
      "Best Parameters: {'svm__C': 100, 'svm__gamma': 0.001}\n",
      "The Test Error rate- 0.11612903225806452\n"
     ]
    }
   ],
   "source": [
    "from sklearn.preprocessing import RobustScaler\n",
    "pipeline = Pipeline([('scaler',RobustScaler()), ('svm',SVC())])\n",
    "grid = GridSearchCV(pipeline, param_grid = param_grid, cv =5, n_jobs = -1)\n",
    "grid.fit(X_train,y_train)\n",
    "y_pred = grid.predict(X_test)\n",
    "print('Best Cross_validation accuracy:', grid.best_score_)\n",
    "print('Test set score:', grid.score(X_test,y_test))\n",
    "print('Best Parameters:', grid.best_params_)\n",
    "print('The Test Error rate-',np.mean(y_pred != y_test))"
   ]
  },
  {
   "cell_type": "code",
   "execution_count": 50,
   "metadata": {},
   "outputs": [
    {
     "name": "stdout",
     "output_type": "stream",
     "text": [
      "Best Cross_validation accuracy: 0.9731825591500696\n",
      "Test set score: 0.978494623655914\n",
      "Best Parameters: {'svm__C': 10, 'svm__gamma': 1}\n",
      "The Test Error rate- 0.021505376344086023\n"
     ]
    }
   ],
   "source": [
    "from sklearn.preprocessing import Normalizer\n",
    "pipeline = Pipeline([('scaler',Normalizer()), ('svm',SVC())])\n",
    "grid = GridSearchCV(pipeline, param_grid = param_grid, cv =5, n_jobs = -1)\n",
    "grid.fit(X_train,y_train)\n",
    "y_pred = grid.predict(X_test)\n",
    "print('Best Cross_validation accuracy:', grid.best_score_)\n",
    "print('Test set score:', grid.score(X_test,y_test))\n",
    "print('Best Parameters:', grid.best_params_)\n",
    "print('The Test Error rate-',np.mean(y_pred != y_test))"
   ]
  },
  {
   "cell_type": "markdown",
   "metadata": {},
   "source": [
    "**For USPS Dataset, Normaliser appears to be best way to normalise as it is providing the best Cross-Validation accuracy and best Test set score.Since, the USPS dataset contains images, it is required to standardize the brightness, or the brightness and contrast,\n",
    "for each image separately and thus we use Normaliser class for per-sample normalisation. For the next task, I am going to use Normalizer method to preprocess data**"
   ]
  },
  {
   "cell_type": "markdown",
   "metadata": {},
   "source": [
    "**Task 7: Implementing Cross-Conformal Predictors**"
   ]
  },
  {
   "cell_type": "code",
   "execution_count": 51,
   "metadata": {},
   "outputs": [],
   "source": [
    "pipeline = Pipeline([('scaler',Normalizer()), ('svm',SVC())]) #Redefining Pipeline\n",
    "from sklearn.model_selection import KFold\n",
    "kf = KFold(shuffle = True, random_state = 2810)\n",
    "grid1 = GridSearchCV(pipeline, param_grid = param_grid, cv =5, n_jobs = -1)"
   ]
  },
  {
   "cell_type": "code",
   "execution_count": 52,
   "metadata": {},
   "outputs": [
    {
     "name": "stdout",
     "output_type": "stream",
     "text": [
      "The Test error rate is 0.025806451612903226\n"
     ]
    }
   ],
   "source": [
    "fold_rank = np.zeros((len(X_test),10))\n",
    "for rest_index, fold_index in kf.split(X_train):\n",
    "    X_rest,X_fold = X_train[rest_index], X_train[fold_index]\n",
    "    y_rest,y_fold = y_train[rest_index], y_train[fold_index]\n",
    "    conformity_fold = np.zeros(len(y_fold))\n",
    "    grid1.fit(X_rest,y_rest)\n",
    "    conformity_scores  = grid1.decision_function(X_fold) \n",
    "    test_decision = grid1.decision_function(X_test)\n",
    "    for i in range(len(y_fold)):\n",
    "        conformity_fold[i] = conformity_scores[i,int(y_fold[i])]\n",
    "    for j in range(len(y_test)):\n",
    "        for k in range(10):\n",
    "            fold_rank[j,k] = fold_rank[j,k]+np.sum(test_decision[j,k] >= conformity_fold) \n",
    "p_value = (fold_rank+1)/(len(X_train)+1)\n",
    "labels = np.unique(y_train)\n",
    "pred_targets = np.zeros(len(X_test))\n",
    "for i in range(len(p_value)):\n",
    "    pred_targets[i] = labels[np.argmax(p_value[i])]\n",
    "print('The Test error rate is',np.mean(pred_targets != y_test))"
   ]
  },
  {
   "cell_type": "code",
   "execution_count": 53,
   "metadata": {},
   "outputs": [
    {
     "name": "stdout",
     "output_type": "stream",
     "text": [
      "Average False P-value is  0.004598339146014124\n"
     ]
    },
    {
     "data": {
      "image/png": "[encoded data removed]",
      "text/plain": [
       "<Figure size 432x288 with 1 Axes>"
      ]
     },
     "metadata": {
      "needs_background": "light"
     },
     "output_type": "display_data"
    }
   ],
   "source": [
    "%matplotlib inline\n",
    "import matplotlib.pyplot as plt\n",
    "eps = np.zeros(100)\n",
    "err = np.zeros(100)\n",
    "for k in range(100):\n",
    "    eps[k] = k/100\n",
    "    err[k] = 0\n",
    "    for j in range(len(y_test)):\n",
    "        if(p_value[j,int(y_test[j])]<= eps[k]):\n",
    "            err[k] = err[k]+1\n",
    "    err[k] = err[k]/len(y_test)\n",
    "plt.plot(eps,err)\n",
    "total = 0    \n",
    "for i in range(len(y_test)):\n",
    "    k = y_test[i]\n",
    "    for j in range(len(labels)):\n",
    "        if k!= j:\n",
    "            total =total+ p_value[i,j]\n",
    "avg_false_p = total/(len(p_value)*(len(labels)-1))\n",
    "print('Average False P-value is ',avg_false_p)"
   ]
  },
  {
   "cell_type": "markdown",
   "metadata": {},
   "source": [
    "Summary\n",
    "\n",
    "Task 3: \n",
    "        \n",
    "        Generalisation accuracy for Wine Dataset = 0.6923076923076923\n",
    "\n",
    "        Generalisation accuracy for USPS Dataset = 0.9710317129736762\n",
    "        \n",
    "Task 4: \n",
    "\n",
    "        Test error rate for Wine Dataset = 0.37777777777777777\n",
    "\n",
    "        Test error rate for USPS Dataset = 0.02537634408602152\n",
    "        \n",
    "Task 6: \n",
    "         \n",
    "        Test error rate for Wine Dataset using MinMax = 0.044444444444444446\n",
    "\n",
    "        Test error rate for USPS Dataset using MinMax = 0.027526881720430108\n",
    "        \n",
    "        Test error rate for Wine Dataset using Normaliser = 0.06666666666666667\n",
    "        \n",
    "        Test error rate for USPS Dataset using Normaliser = 0.021505376344086023\n",
    "        \n",
    "        Test error rate for Wine Dataset using RobustScaler = 0.044444444444444446\n",
    "        \n",
    "        Test error rate for USPS Dataset using RobustScaler = 0.11612903225806452\n",
    "        \n",
    "        Test error rate for Wine Dataset using StandardScaler = 0.06666666666666667\n",
    "        \n",
    "        Test error rate for USPS Dataset using StandardScaler = 0.033118279569892474\n",
    "        \n",
    "        \n",
    "Task 7: \n",
    "\n",
    "        Average False P-value for Wine dataset = 0.008706467661691555\n",
    "\n",
    "        Average False P-value for USPS dataset = 0.004598339146014124"
   ]
  },
  {
   "cell_type": "markdown",
   "metadata": {},
   "source": [
    "Observations: \n",
    "1) The Wine Dataset being a small dataset can give better test-error rate for StandardScaler, MinMax Scaler if random state is changed. \n",
    "\n",
    "2) With the increase in size of the dataset, the difference between generalisation accuracy and accuracy on test-set becomes lesser. Increased size of training set has reduced the error rate greatly as well.\n",
    "\n",
    "3) The caliberation curve is affected by the size of our training set significantly, it can be apparant from the caliberation curve we obtained from the two datasets. USPS Dataset being an enormous dataset provides a caliberation curve which is close to the ideal calioberation curve i.e  the main diagonal of the square [0,1]^2. \n",
    "\n"
   ]
  },
  {
   "cell_type": "markdown",
   "metadata": {},
   "source": [
    "***Comment:*** I tried to find the optimal number of folds for the crossconformal predictor, It is generally advised to use k =[5,10] number of folds for crossvalidation. Since the approach for conformal predictors is different than other machine learning algorithms, I am not sure if it is the right thing to use the same values of K. But, I found that for these values of K, the validity and efficiency were achevied. Using USPS dataset, I found K =10 to be the optimal number of folds. I also tried to do something like K = n, number of folds where n = size of training set which I beleived to work as Leave-one-out counterpart for the cross-confromal predictors, but the K-fold library did not let me do that. I tried some other ways and using smaller dataset, I found that for that setting the validity of our cross-conformal predictior may be violated."
   ]
  },
  {
   "cell_type": "code",
   "execution_count": null,
   "metadata": {},
   "outputs": [],
   "source": []
  }
 ],
 "metadata": {
  "kernelspec": {
   "display_name": "Python 3",
   "language": "python",
   "name": "python3"
  },
  "language_info": {
   "codemirror_mode": {
    "name": "ipython",
    "version": 3
   },
   "file_extension": ".py",
   "mimetype": "text/x-python",
   "name": "python",
   "nbconvert_exporter": "python",
   "pygments_lexer": "ipython3",
   "version": "3.8.3"
  }
 },
 "nbformat": 4,
 "nbformat_minor": 4
}
